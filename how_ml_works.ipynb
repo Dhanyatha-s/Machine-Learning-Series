{
 "cells": [
  {
   "cell_type": "markdown",
   "id": "3baa4b7b",
   "metadata": {},
   "source": [
    "# Machine learning"
   ]
  },
  {
   "cell_type": "markdown",
   "id": "28faea0a",
   "metadata": {},
   "source": [
    "### \"Machine Learning flips the traditional way of programming. insted of giving instructions, we give data and allow the machine to learn patterns and make deciions by itself.\""
   ]
  },
  {
   "cell_type": "markdown",
   "id": "4a97c41c",
   "metadata": {},
   "source": [
    "- So now we will see how machine learning learns the patterns with given data and instructions"
   ]
  },
  {
   "cell_type": "markdown",
   "id": "4f125c83",
   "metadata": {},
   "source": [
    "### Steps -----------what we will do  \n",
    "1---------------------------Install python libraries  \n",
    "2---------------------------                           Create a small dataset manually [just to learn]  \n",
    "3---------------------------                           Split the data into test and trainning data  \n",
    "4---------------------------                           Train a simple model [here using decision tree]  \n",
    "5---------------------------                           Predict on new data   \n",
    "6---------------------------                           check how accurate our model is   \n"
   ]
  },
  {
   "cell_type": "markdown",
   "id": "a1d14611",
   "metadata": {},
   "source": [
    "Step 1\n",
    "- install libraries\n",
    "- - pandas\n",
    "- - numpy [if needed]\n",
    "- - scikit-learn"
   ]
  },
  {
   "cell_type": "code",
   "execution_count": 8,
   "id": "311b109c",
   "metadata": {},
   "outputs": [],
   "source": [
    "# Import the libraries\n",
    "import pandas as pd\n",
    "from sklearn.model_selection import train_test_split\n",
    "from sklearn.tree import DecisionTreeClassifier\n",
    "from sklearn.metrics import accuracy_score"
   ]
  },
  {
   "cell_type": "markdown",
   "id": "b1fe3413",
   "metadata": {},
   "source": [
    "### So, we are gonna build simple yet fundational level model that classifies the data based on labels and instructions    \n",
    "#### basically machine learning data contains both data and the output, we make it learn the patterns and build the learning capacity by getting trainned by data. when asked the questions it must be able answer it precisely by predicting the outbut from what it learned."
   ]
  },
  {
   "cell_type": "markdown",
   "id": "130fefab",
   "metadata": {},
   "source": [
    "Step 2\n",
    "- create dataset"
   ]
  },
  {
   "cell_type": "code",
   "execution_count": 9,
   "id": "bdd27e69",
   "metadata": {},
   "outputs": [],
   "source": [
    "# lets create the dataset \n",
    "# I'm using dictionary to store our data\n",
    "data = {\n",
    "    'weight_grams':[150,200,120,500,600,100,250,700,80,450],\n",
    "    'Calories_kcal': [800,100,70,900,1100,50,300,1200,30,800],\n",
    "    'Label':['Healthy','Healthy','Healthy','Unhealthy','Unhealthy','Healthy','Healthy','Unhealthy','Healthy','Healthy']\n",
    "}\n"
   ]
  },
  {
   "cell_type": "markdown",
   "id": "798e5214",
   "metadata": {},
   "source": [
    "I have taken \"FOOD CLASSIFIER BASED ON WEIGHT AND CALORIES\" dataset which classifies the food whether its a healthy or unhealthy food.  \n",
    "\n",
    "- Now i have data created, which has 2 categories and its a supervised data because we have labeled it, it learns based on the labels provided with the data which is output for us and to the machine when its learning.\n"
   ]
  },
  {
   "cell_type": "code",
   "execution_count": 10,
   "id": "19d7bc1a",
   "metadata": {},
   "outputs": [],
   "source": [
    "# load the dataset\n",
    "df = pd.DataFrame(data)"
   ]
  },
  {
   "cell_type": "markdown",
   "id": "c2b26c04",
   "metadata": {},
   "source": [
    "####  Lets make machine learn what it is by training it with data\n",
    "  \n",
    "  \n",
    "step 3\n",
    "- Split the data into i/p and o/p data"
   ]
  },
  {
   "cell_type": "code",
   "execution_count": 11,
   "id": "aaf0eb95",
   "metadata": {},
   "outputs": [],
   "source": [
    "X = df[['weight_grams','Calories_kcal']]  # this is gonning to be input data\n",
    "y= df['Label'] # this is output data"
   ]
  },
  {
   "cell_type": "markdown",
   "id": "4545edee",
   "metadata": {},
   "source": [
    "Step 4\n",
    "- Split data into training and testing dataset"
   ]
  },
  {
   "cell_type": "code",
   "execution_count": 21,
   "id": "58c6f46a",
   "metadata": {},
   "outputs": [],
   "source": [
    "X_train, X_test,y_train, y_test = train_test_split(X,y, test_size=0.3,random_state=42)"
   ]
  },
  {
   "cell_type": "markdown",
   "id": "19313a27",
   "metadata": {},
   "source": [
    "Step 5\n",
    "- train decision tree model"
   ]
  },
  {
   "cell_type": "code",
   "execution_count": 22,
   "id": "5979af07",
   "metadata": {},
   "outputs": [
    {
     "name": "stdout",
     "output_type": "stream",
     "text": [
      "(7, 2)\n",
      "7\n"
     ]
    }
   ],
   "source": [
    "print(X_train.shape)\n",
    "print(len(y_train))"
   ]
  },
  {
   "cell_type": "code",
   "execution_count": 23,
   "id": "90dba2d0",
   "metadata": {},
   "outputs": [
    {
     "data": {
      "text/html": [
       "<style>#sk-container-id-1 {color: black;background-color: white;}#sk-container-id-1 pre{padding: 0;}#sk-container-id-1 div.sk-toggleable {background-color: white;}#sk-container-id-1 label.sk-toggleable__label {cursor: pointer;display: block;width: 100%;margin-bottom: 0;padding: 0.3em;box-sizing: border-box;text-align: center;}#sk-container-id-1 label.sk-toggleable__label-arrow:before {content: \"▸\";float: left;margin-right: 0.25em;color: #696969;}#sk-container-id-1 label.sk-toggleable__label-arrow:hover:before {color: black;}#sk-container-id-1 div.sk-estimator:hover label.sk-toggleable__label-arrow:before {color: black;}#sk-container-id-1 div.sk-toggleable__content {max-height: 0;max-width: 0;overflow: hidden;text-align: left;background-color: #f0f8ff;}#sk-container-id-1 div.sk-toggleable__content pre {margin: 0.2em;color: black;border-radius: 0.25em;background-color: #f0f8ff;}#sk-container-id-1 input.sk-toggleable__control:checked~div.sk-toggleable__content {max-height: 200px;max-width: 100%;overflow: auto;}#sk-container-id-1 input.sk-toggleable__control:checked~label.sk-toggleable__label-arrow:before {content: \"▾\";}#sk-container-id-1 div.sk-estimator input.sk-toggleable__control:checked~label.sk-toggleable__label {background-color: #d4ebff;}#sk-container-id-1 div.sk-label input.sk-toggleable__control:checked~label.sk-toggleable__label {background-color: #d4ebff;}#sk-container-id-1 input.sk-hidden--visually {border: 0;clip: rect(1px 1px 1px 1px);clip: rect(1px, 1px, 1px, 1px);height: 1px;margin: -1px;overflow: hidden;padding: 0;position: absolute;width: 1px;}#sk-container-id-1 div.sk-estimator {font-family: monospace;background-color: #f0f8ff;border: 1px dotted black;border-radius: 0.25em;box-sizing: border-box;margin-bottom: 0.5em;}#sk-container-id-1 div.sk-estimator:hover {background-color: #d4ebff;}#sk-container-id-1 div.sk-parallel-item::after {content: \"\";width: 100%;border-bottom: 1px solid gray;flex-grow: 1;}#sk-container-id-1 div.sk-label:hover label.sk-toggleable__label {background-color: #d4ebff;}#sk-container-id-1 div.sk-serial::before {content: \"\";position: absolute;border-left: 1px solid gray;box-sizing: border-box;top: 0;bottom: 0;left: 50%;z-index: 0;}#sk-container-id-1 div.sk-serial {display: flex;flex-direction: column;align-items: center;background-color: white;padding-right: 0.2em;padding-left: 0.2em;position: relative;}#sk-container-id-1 div.sk-item {position: relative;z-index: 1;}#sk-container-id-1 div.sk-parallel {display: flex;align-items: stretch;justify-content: center;background-color: white;position: relative;}#sk-container-id-1 div.sk-item::before, #sk-container-id-1 div.sk-parallel-item::before {content: \"\";position: absolute;border-left: 1px solid gray;box-sizing: border-box;top: 0;bottom: 0;left: 50%;z-index: -1;}#sk-container-id-1 div.sk-parallel-item {display: flex;flex-direction: column;z-index: 1;position: relative;background-color: white;}#sk-container-id-1 div.sk-parallel-item:first-child::after {align-self: flex-end;width: 50%;}#sk-container-id-1 div.sk-parallel-item:last-child::after {align-self: flex-start;width: 50%;}#sk-container-id-1 div.sk-parallel-item:only-child::after {width: 0;}#sk-container-id-1 div.sk-dashed-wrapped {border: 1px dashed gray;margin: 0 0.4em 0.5em 0.4em;box-sizing: border-box;padding-bottom: 0.4em;background-color: white;}#sk-container-id-1 div.sk-label label {font-family: monospace;font-weight: bold;display: inline-block;line-height: 1.2em;}#sk-container-id-1 div.sk-label-container {text-align: center;}#sk-container-id-1 div.sk-container {/* jupyter's `normalize.less` sets `[hidden] { display: none; }` but bootstrap.min.css set `[hidden] { display: none !important; }` so we also need the `!important` here to be able to override the default hidden behavior on the sphinx rendered scikit-learn.org. See: https://github.com/scikit-learn/scikit-learn/issues/21755 */display: inline-block !important;position: relative;}#sk-container-id-1 div.sk-text-repr-fallback {display: none;}</style><div id=\"sk-container-id-1\" class=\"sk-top-container\"><div class=\"sk-text-repr-fallback\"><pre>DecisionTreeClassifier()</pre><b>In a Jupyter environment, please rerun this cell to show the HTML representation or trust the notebook. <br />On GitHub, the HTML representation is unable to render, please try loading this page with nbviewer.org.</b></div><div class=\"sk-container\" hidden><div class=\"sk-item\"><div class=\"sk-estimator sk-toggleable\"><input class=\"sk-toggleable__control sk-hidden--visually\" id=\"sk-estimator-id-1\" type=\"checkbox\" checked><label for=\"sk-estimator-id-1\" class=\"sk-toggleable__label sk-toggleable__label-arrow\">DecisionTreeClassifier</label><div class=\"sk-toggleable__content\"><pre>DecisionTreeClassifier()</pre></div></div></div></div></div>"
      ],
      "text/plain": [
       "DecisionTreeClassifier()"
      ]
     },
     "execution_count": 23,
     "metadata": {},
     "output_type": "execute_result"
    }
   ],
   "source": [
    "model = DecisionTreeClassifier()\n",
    "model.fit(X_train,y_train)"
   ]
  },
  {
   "cell_type": "markdown",
   "id": "992e2b2a",
   "metadata": {},
   "source": [
    "Step 6\n",
    "- make predictions on the test"
   ]
  },
  {
   "cell_type": "code",
   "execution_count": 25,
   "id": "56420ae8",
   "metadata": {},
   "outputs": [],
   "source": [
    "y_pred = model.predict(X_test)"
   ]
  },
  {
   "cell_type": "markdown",
   "id": "d11d374d",
   "metadata": {},
   "source": [
    "Step 7\n",
    "- Lets check the Accuracy"
   ]
  },
  {
   "cell_type": "code",
   "execution_count": 28,
   "id": "e4d0ef63",
   "metadata": {},
   "outputs": [
    {
     "name": "stdout",
     "output_type": "stream",
     "text": [
      "Accuracy Score is: 100.000000%\n"
     ]
    }
   ],
   "source": [
    "acuuracy = accuracy_score(y_test, y_pred)\n",
    "print(f\"Accuracy Score is: {acuuracy*100:2f}%\")"
   ]
  },
  {
   "cell_type": "markdown",
   "id": "a76be354",
   "metadata": {},
   "source": [
    "Yeahhhhhhh... 100%, the percent i never once got in my school.."
   ]
  },
  {
   "cell_type": "markdown",
   "id": "4d91b387",
   "metadata": {},
   "source": [
    "Its the time for prediction.... 🕺💃🕺💃"
   ]
  },
  {
   "cell_type": "code",
   "execution_count": 29,
   "id": "537faf4c",
   "metadata": {},
   "outputs": [
    {
     "data": {
      "text/plain": [
       "array(['Healthy'], dtype=object)"
      ]
     },
     "execution_count": 29,
     "metadata": {},
     "output_type": "execute_result"
    }
   ],
   "source": [
    "new_food = pd.DataFrame({'weight_grams':[130], 'Calories_kcal':[90]})\n",
    "prediction = model.predict(new_food)\n",
    "prediction"
   ]
  },
  {
   "cell_type": "code",
   "execution_count": 31,
   "id": "5a5369e8",
   "metadata": {},
   "outputs": [
    {
     "data": {
      "text/plain": [
       "array(['Healthy'], dtype=object)"
      ]
     },
     "execution_count": 31,
     "metadata": {},
     "output_type": "execute_result"
    }
   ],
   "source": [
    "new_food = pd.DataFrame({'weight_grams':[210], 'Calories_kcal':[190]})\n",
    "prediction = model.predict(new_food)\n",
    "prediction"
   ]
  },
  {
   "cell_type": "code",
   "execution_count": 33,
   "id": "215784f2",
   "metadata": {},
   "outputs": [
    {
     "data": {
      "text/plain": [
       "array(['Healthy'], dtype=object)"
      ]
     },
     "execution_count": 33,
     "metadata": {},
     "output_type": "execute_result"
    }
   ],
   "source": [
    "new_food = pd.DataFrame({'weight_grams':[290], 'Calories_kcal':[290]})\n",
    "prediction = model.predict(new_food)\n",
    "prediction"
   ]
  },
  {
   "cell_type": "code",
   "execution_count": 38,
   "id": "33e22280",
   "metadata": {},
   "outputs": [
    {
     "data": {
      "text/plain": [
       "array(['Unhealthy'], dtype=object)"
      ]
     },
     "execution_count": 38,
     "metadata": {},
     "output_type": "execute_result"
    }
   ],
   "source": [
    "new_food = pd.DataFrame({'weight_grams':[600], 'Calories_kcal':[1110]})\n",
    "prediction = model.predict(new_food)\n",
    "prediction"
   ]
  },
  {
   "cell_type": "markdown",
   "id": "7b1cecf2",
   "metadata": {},
   "source": [
    "Logic behind this when calories are high it learns that food is unhealthy its most learnning area was on calories."
   ]
  },
  {
   "cell_type": "markdown",
   "id": "408bb079",
   "metadata": {},
   "source": [
    "# End of the basics"
   ]
  },
  {
   "cell_type": "markdown",
   "id": "4ee09859",
   "metadata": {},
   "source": []
  }
 ],
 "metadata": {
  "kernelspec": {
   "display_name": "base",
   "language": "python",
   "name": "python3"
  },
  "language_info": {
   "codemirror_mode": {
    "name": "ipython",
    "version": 3
   },
   "file_extension": ".py",
   "mimetype": "text/x-python",
   "name": "python",
   "nbconvert_exporter": "python",
   "pygments_lexer": "ipython3",
   "version": "3.11.7"
  }
 },
 "nbformat": 4,
 "nbformat_minor": 5
}
